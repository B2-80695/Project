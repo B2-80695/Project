{
 "cells": [
  {
   "cell_type": "markdown",
   "id": "fa0627c3-f956-45e3-ac6f-125458118618",
   "metadata": {},
   "source": [
    "# WEATHER PREDICTION"
   ]
  },
  {
   "cell_type": "markdown",
   "id": "e9650aea-6034-41c6-8737-a6bb44202722",
   "metadata": {},
   "source": [
    "## IMPORTING REQUIRED PACKAGES"
   ]
  },
  {
   "cell_type": "code",
   "execution_count": 1,
   "id": "fc4a5063-78c3-46bb-bd30-cc92270bd8dc",
   "metadata": {},
   "outputs": [],
   "source": [
    "import pandas as pd\n",
    "import numpy as np\n",
    "import matplotlib.pyplot as plt\n",
    "import seaborn as sns"
   ]
  },
  {
   "cell_type": "markdown",
   "id": "082d23b9-8e14-46c4-899d-ee8cea2126c8",
   "metadata": {},
   "source": [
    "## LOADING DATA FROM DATA SOURCE"
   ]
  },
  {
   "cell_type": "code",
   "execution_count": 2,
   "id": "7261539f-8d05-4839-867d-53f9613556a9",
   "metadata": {},
   "outputs": [
    {
     "data": {
      "text/html": [
       "<div>\n",
       "<style scoped>\n",
       "    .dataframe tbody tr th:only-of-type {\n",
       "        vertical-align: middle;\n",
       "    }\n",
       "\n",
       "    .dataframe tbody tr th {\n",
       "        vertical-align: top;\n",
       "    }\n",
       "\n",
       "    .dataframe thead th {\n",
       "        text-align: right;\n",
       "    }\n",
       "</style>\n",
       "<table border=\"1\" class=\"dataframe\">\n",
       "  <thead>\n",
       "    <tr style=\"text-align: right;\">\n",
       "      <th></th>\n",
       "      <th>date_time</th>\n",
       "      <th>maxtempC</th>\n",
       "      <th>mintempC</th>\n",
       "      <th>sunHour</th>\n",
       "      <th>uvIndex</th>\n",
       "      <th>moon_illumination</th>\n",
       "      <th>moonrise</th>\n",
       "      <th>moonset</th>\n",
       "      <th>sunrise</th>\n",
       "      <th>sunset</th>\n",
       "      <th>...</th>\n",
       "      <th>WindChillC</th>\n",
       "      <th>WindGustKmph</th>\n",
       "      <th>cloudcover</th>\n",
       "      <th>humidity</th>\n",
       "      <th>precipMM</th>\n",
       "      <th>pressure</th>\n",
       "      <th>tempC</th>\n",
       "      <th>visibility</th>\n",
       "      <th>winddirDegree</th>\n",
       "      <th>windspeedKmph</th>\n",
       "    </tr>\n",
       "  </thead>\n",
       "  <tbody>\n",
       "    <tr>\n",
       "      <th>0</th>\n",
       "      <td>2017-01-01 01:00:00</td>\n",
       "      <td>31.0</td>\n",
       "      <td>17.0</td>\n",
       "      <td>11.0</td>\n",
       "      <td>6.0</td>\n",
       "      <td>20.0</td>\n",
       "      <td>09:15 AM</td>\n",
       "      <td>08:58 PM</td>\n",
       "      <td>07:07 AM</td>\n",
       "      <td>06:09 PM</td>\n",
       "      <td>...</td>\n",
       "      <td>18.0</td>\n",
       "      <td>5.0</td>\n",
       "      <td>1</td>\n",
       "      <td>63</td>\n",
       "      <td>0.0</td>\n",
       "      <td>1014.0</td>\n",
       "      <td>18</td>\n",
       "      <td>10</td>\n",
       "      <td>82</td>\n",
       "      <td>2</td>\n",
       "    </tr>\n",
       "    <tr>\n",
       "      <th>1</th>\n",
       "      <td>2017-01-01 02:00:00</td>\n",
       "      <td>31.0</td>\n",
       "      <td>17.0</td>\n",
       "      <td>11.0</td>\n",
       "      <td>6.0</td>\n",
       "      <td>20.0</td>\n",
       "      <td>09:15 AM</td>\n",
       "      <td>08:58 PM</td>\n",
       "      <td>07:07 AM</td>\n",
       "      <td>06:09 PM</td>\n",
       "      <td>...</td>\n",
       "      <td>18.0</td>\n",
       "      <td>5.0</td>\n",
       "      <td>0</td>\n",
       "      <td>63</td>\n",
       "      <td>0.0</td>\n",
       "      <td>1014.0</td>\n",
       "      <td>18</td>\n",
       "      <td>10</td>\n",
       "      <td>94</td>\n",
       "      <td>3</td>\n",
       "    </tr>\n",
       "    <tr>\n",
       "      <th>2</th>\n",
       "      <td>2017-01-01 03:00:00</td>\n",
       "      <td>31.0</td>\n",
       "      <td>17.0</td>\n",
       "      <td>11.0</td>\n",
       "      <td>6.0</td>\n",
       "      <td>20.0</td>\n",
       "      <td>09:15 AM</td>\n",
       "      <td>08:58 PM</td>\n",
       "      <td>07:07 AM</td>\n",
       "      <td>06:09 PM</td>\n",
       "      <td>...</td>\n",
       "      <td>17.0</td>\n",
       "      <td>6.0</td>\n",
       "      <td>0</td>\n",
       "      <td>64</td>\n",
       "      <td>0.0</td>\n",
       "      <td>1014.0</td>\n",
       "      <td>17</td>\n",
       "      <td>10</td>\n",
       "      <td>105</td>\n",
       "      <td>3</td>\n",
       "    </tr>\n",
       "    <tr>\n",
       "      <th>3</th>\n",
       "      <td>2017-01-01 04:00:00</td>\n",
       "      <td>31.0</td>\n",
       "      <td>17.0</td>\n",
       "      <td>11.0</td>\n",
       "      <td>6.0</td>\n",
       "      <td>20.0</td>\n",
       "      <td>09:15 AM</td>\n",
       "      <td>08:58 PM</td>\n",
       "      <td>07:07 AM</td>\n",
       "      <td>06:09 PM</td>\n",
       "      <td>...</td>\n",
       "      <td>19.0</td>\n",
       "      <td>7.0</td>\n",
       "      <td>1</td>\n",
       "      <td>57</td>\n",
       "      <td>0.0</td>\n",
       "      <td>1014.0</td>\n",
       "      <td>19</td>\n",
       "      <td>10</td>\n",
       "      <td>110</td>\n",
       "      <td>4</td>\n",
       "    </tr>\n",
       "    <tr>\n",
       "      <th>4</th>\n",
       "      <td>2017-01-01 05:00:00</td>\n",
       "      <td>31.0</td>\n",
       "      <td>17.0</td>\n",
       "      <td>NaN</td>\n",
       "      <td>6.0</td>\n",
       "      <td>20.0</td>\n",
       "      <td>09:15 AM</td>\n",
       "      <td>08:58 PM</td>\n",
       "      <td>07:07 AM</td>\n",
       "      <td>06:09 PM</td>\n",
       "      <td>...</td>\n",
       "      <td>19.0</td>\n",
       "      <td>8.0</td>\n",
       "      <td>1</td>\n",
       "      <td>51</td>\n",
       "      <td>0.0</td>\n",
       "      <td>1015.0</td>\n",
       "      <td>19</td>\n",
       "      <td>10</td>\n",
       "      <td>115</td>\n",
       "      <td>5</td>\n",
       "    </tr>\n",
       "    <tr>\n",
       "      <th>...</th>\n",
       "      <td>...</td>\n",
       "      <td>...</td>\n",
       "      <td>...</td>\n",
       "      <td>...</td>\n",
       "      <td>...</td>\n",
       "      <td>...</td>\n",
       "      <td>...</td>\n",
       "      <td>...</td>\n",
       "      <td>...</td>\n",
       "      <td>...</td>\n",
       "      <td>...</td>\n",
       "      <td>...</td>\n",
       "      <td>...</td>\n",
       "      <td>...</td>\n",
       "      <td>...</td>\n",
       "      <td>...</td>\n",
       "      <td>...</td>\n",
       "      <td>...</td>\n",
       "      <td>...</td>\n",
       "      <td>...</td>\n",
       "      <td>...</td>\n",
       "    </tr>\n",
       "    <tr>\n",
       "      <th>45498</th>\n",
       "      <td>2022-03-11 19:00:00</td>\n",
       "      <td>35.0</td>\n",
       "      <td>23.0</td>\n",
       "      <td>11.8</td>\n",
       "      <td>7.0</td>\n",
       "      <td>56.0</td>\n",
       "      <td>12:40 PM</td>\n",
       "      <td>01:33 AM</td>\n",
       "      <td>06:46 AM</td>\n",
       "      <td>06:43 PM</td>\n",
       "      <td>...</td>\n",
       "      <td>30.0</td>\n",
       "      <td>10.0</td>\n",
       "      <td>6</td>\n",
       "      <td>28</td>\n",
       "      <td>0.0</td>\n",
       "      <td>1009.0</td>\n",
       "      <td>30</td>\n",
       "      <td>10</td>\n",
       "      <td>235</td>\n",
       "      <td>7</td>\n",
       "    </tr>\n",
       "    <tr>\n",
       "      <th>45499</th>\n",
       "      <td>2022-03-11 20:00:00</td>\n",
       "      <td>35.0</td>\n",
       "      <td>23.0</td>\n",
       "      <td>11.8</td>\n",
       "      <td>7.0</td>\n",
       "      <td>56.0</td>\n",
       "      <td>12:40 PM</td>\n",
       "      <td>01:33 AM</td>\n",
       "      <td>06:46 AM</td>\n",
       "      <td>06:43 PM</td>\n",
       "      <td>...</td>\n",
       "      <td>29.0</td>\n",
       "      <td>14.0</td>\n",
       "      <td>7</td>\n",
       "      <td>29</td>\n",
       "      <td>0.0</td>\n",
       "      <td>1010.0</td>\n",
       "      <td>29</td>\n",
       "      <td>10</td>\n",
       "      <td>289</td>\n",
       "      <td>9</td>\n",
       "    </tr>\n",
       "    <tr>\n",
       "      <th>45500</th>\n",
       "      <td>2022-03-11 21:00:00</td>\n",
       "      <td>35.0</td>\n",
       "      <td>23.0</td>\n",
       "      <td>11.8</td>\n",
       "      <td>7.0</td>\n",
       "      <td>56.0</td>\n",
       "      <td>12:40 PM</td>\n",
       "      <td>01:33 AM</td>\n",
       "      <td>06:46 AM</td>\n",
       "      <td>06:43 PM</td>\n",
       "      <td>...</td>\n",
       "      <td>27.0</td>\n",
       "      <td>12.0</td>\n",
       "      <td>9</td>\n",
       "      <td>30</td>\n",
       "      <td>0.0</td>\n",
       "      <td>1012.0</td>\n",
       "      <td>27</td>\n",
       "      <td>10</td>\n",
       "      <td>343</td>\n",
       "      <td>12</td>\n",
       "    </tr>\n",
       "    <tr>\n",
       "      <th>45501</th>\n",
       "      <td>2022-03-11 22:00:00</td>\n",
       "      <td>35.0</td>\n",
       "      <td>23.0</td>\n",
       "      <td>11.8</td>\n",
       "      <td>7.0</td>\n",
       "      <td>56.0</td>\n",
       "      <td>12:40 PM</td>\n",
       "      <td>01:33 AM</td>\n",
       "      <td>06:46 AM</td>\n",
       "      <td>06:43 PM</td>\n",
       "      <td>...</td>\n",
       "      <td>26.0</td>\n",
       "      <td>14.0</td>\n",
       "      <td>8</td>\n",
       "      <td>31</td>\n",
       "      <td>0.0</td>\n",
       "      <td>1011.0</td>\n",
       "      <td>26</td>\n",
       "      <td>10</td>\n",
       "      <td>234</td>\n",
       "      <td>11</td>\n",
       "    </tr>\n",
       "    <tr>\n",
       "      <th>45502</th>\n",
       "      <td>2022-03-11 23:00:00</td>\n",
       "      <td>35.0</td>\n",
       "      <td>23.0</td>\n",
       "      <td>11.8</td>\n",
       "      <td>7.0</td>\n",
       "      <td>56.0</td>\n",
       "      <td>12:40 PM</td>\n",
       "      <td>01:33 AM</td>\n",
       "      <td>06:46 AM</td>\n",
       "      <td>06:43 PM</td>\n",
       "      <td>...</td>\n",
       "      <td>25.0</td>\n",
       "      <td>15.0</td>\n",
       "      <td>7</td>\n",
       "      <td>32</td>\n",
       "      <td>0.0</td>\n",
       "      <td>1011.0</td>\n",
       "      <td>25</td>\n",
       "      <td>10</td>\n",
       "      <td>125</td>\n",
       "      <td>10</td>\n",
       "    </tr>\n",
       "  </tbody>\n",
       "</table>\n",
       "<p>45503 rows × 23 columns</p>\n",
       "</div>"
      ],
      "text/plain": [
       "                 date_time  maxtempC  mintempC  sunHour  uvIndex  \\\n",
       "0      2017-01-01 01:00:00      31.0      17.0     11.0      6.0   \n",
       "1      2017-01-01 02:00:00      31.0      17.0     11.0      6.0   \n",
       "2      2017-01-01 03:00:00      31.0      17.0     11.0      6.0   \n",
       "3      2017-01-01 04:00:00      31.0      17.0     11.0      6.0   \n",
       "4      2017-01-01 05:00:00      31.0      17.0      NaN      6.0   \n",
       "...                    ...       ...       ...      ...      ...   \n",
       "45498  2022-03-11 19:00:00      35.0      23.0     11.8      7.0   \n",
       "45499  2022-03-11 20:00:00      35.0      23.0     11.8      7.0   \n",
       "45500  2022-03-11 21:00:00      35.0      23.0     11.8      7.0   \n",
       "45501  2022-03-11 22:00:00      35.0      23.0     11.8      7.0   \n",
       "45502  2022-03-11 23:00:00      35.0      23.0     11.8      7.0   \n",
       "\n",
       "       moon_illumination  moonrise   moonset   sunrise    sunset  ...  \\\n",
       "0                   20.0  09:15 AM  08:58 PM  07:07 AM  06:09 PM  ...   \n",
       "1                   20.0  09:15 AM  08:58 PM  07:07 AM  06:09 PM  ...   \n",
       "2                   20.0  09:15 AM  08:58 PM  07:07 AM  06:09 PM  ...   \n",
       "3                   20.0  09:15 AM  08:58 PM  07:07 AM  06:09 PM  ...   \n",
       "4                   20.0  09:15 AM  08:58 PM  07:07 AM  06:09 PM  ...   \n",
       "...                  ...       ...       ...       ...       ...  ...   \n",
       "45498               56.0  12:40 PM  01:33 AM  06:46 AM  06:43 PM  ...   \n",
       "45499               56.0  12:40 PM  01:33 AM  06:46 AM  06:43 PM  ...   \n",
       "45500               56.0  12:40 PM  01:33 AM  06:46 AM  06:43 PM  ...   \n",
       "45501               56.0  12:40 PM  01:33 AM  06:46 AM  06:43 PM  ...   \n",
       "45502               56.0  12:40 PM  01:33 AM  06:46 AM  06:43 PM  ...   \n",
       "\n",
       "       WindChillC  WindGustKmph  cloudcover  humidity  precipMM  pressure  \\\n",
       "0            18.0           5.0           1        63       0.0    1014.0   \n",
       "1            18.0           5.0           0        63       0.0    1014.0   \n",
       "2            17.0           6.0           0        64       0.0    1014.0   \n",
       "3            19.0           7.0           1        57       0.0    1014.0   \n",
       "4            19.0           8.0           1        51       0.0    1015.0   \n",
       "...           ...           ...         ...       ...       ...       ...   \n",
       "45498        30.0          10.0           6        28       0.0    1009.0   \n",
       "45499        29.0          14.0           7        29       0.0    1010.0   \n",
       "45500        27.0          12.0           9        30       0.0    1012.0   \n",
       "45501        26.0          14.0           8        31       0.0    1011.0   \n",
       "45502        25.0          15.0           7        32       0.0    1011.0   \n",
       "\n",
       "       tempC  visibility  winddirDegree  windspeedKmph  \n",
       "0         18          10             82              2  \n",
       "1         18          10             94              3  \n",
       "2         17          10            105              3  \n",
       "3         19          10            110              4  \n",
       "4         19          10            115              5  \n",
       "...      ...         ...            ...            ...  \n",
       "45498     30          10            235              7  \n",
       "45499     29          10            289              9  \n",
       "45500     27          10            343             12  \n",
       "45501     26          10            234             11  \n",
       "45502     25          10            125             10  \n",
       "\n",
       "[45503 rows x 23 columns]"
      ]
     },
     "execution_count": 2,
     "metadata": {},
     "output_type": "execute_result"
    }
   ],
   "source": [
    "df = pd.read_csv(\"pune.csv\")\n",
    "df"
   ]
  },
  {
   "cell_type": "markdown",
   "id": "26877edb-8c9b-4fb0-a50f-89142156ba65",
   "metadata": {},
   "source": [
    "## DATA VISUALIZATION"
   ]
  },
  {
   "cell_type": "code",
   "execution_count": 3,
   "id": "8b28d796-9b1b-441e-8ade-8e7587524e02",
   "metadata": {},
   "outputs": [
    {
     "data": {
      "image/png": "[encoded data removed]",
      "text/plain": [
       "<Figure size 1000x800 with 4 Axes>"
      ]
     },
     "metadata": {},
     "output_type": "display_data"
    }
   ],
   "source": [
    "sns.set(style=\"darkgrid\")\n",
    "fig,axs=plt.subplots(2,2,figsize=(10,8))\n",
    "sns.histplot(data=df,x=\"maxtempC\",kde=True,ax=axs[0,0],color='red')\n",
    "sns.histplot(data=df,x=\"mintempC\",kde=True,ax=axs[0,1],color='green')\n",
    "sns.histplot(data=df,x=\"pressure\",kde=True,ax=axs[1,0],color='blue')\n",
    "sns.histplot(data=df,x=\"humidity\",kde=True,ax=axs[1,1],color='orange')\n",
    "\n",
    "plt.savefig('Histogram showing the distribution of numerical variables in the dataset')"
   ]
  },
  {
   "cell_type": "markdown",
   "id": "b2a15871-ea1e-4998-b912-2a79cd338c99",
   "metadata": {},
   "source": [
    "## EXPLORATORY DATA ANALYSIS (EDA)"
   ]
  },
  {
   "cell_type": "markdown",
   "id": "10fa2104-4fa1-4649-a453-fd870bfb4d36",
   "metadata": {},
   "source": [
    "### - General Information "
   ]
  },
  {
   "cell_type": "code",
   "execution_count": 44,
   "id": "195cad4b-2bb7-4941-ba3b-64e96aa94785",
   "metadata": {},
   "outputs": [
    {
     "data": {
      "text/plain": [
       "(45503, 18)"
      ]
     },
     "execution_count": 44,
     "metadata": {},
     "output_type": "execute_result"
    }
   ],
   "source": [
    "df.shape"
   ]
  },
  {
   "cell_type": "code",
   "execution_count": 4,
   "id": "24addf19-f045-4fea-a852-a3742cc05b34",
   "metadata": {},
   "outputs": [
    {
     "name": "stdout",
     "output_type": "stream",
     "text": [
      "<class 'pandas.core.frame.DataFrame'>\n",
      "RangeIndex: 45503 entries, 0 to 45502\n",
      "Data columns (total 23 columns):\n",
      " #   Column             Non-Null Count  Dtype  \n",
      "---  ------             --------------  -----  \n",
      " 0   date_time          45501 non-null  object \n",
      " 1   maxtempC           44633 non-null  float64\n",
      " 2   mintempC           45478 non-null  float64\n",
      " 3   sunHour            45351 non-null  float64\n",
      " 4   uvIndex            45450 non-null  float64\n",
      " 5   moon_illumination  45502 non-null  float64\n",
      " 6   moonrise           45503 non-null  object \n",
      " 7   moonset            45503 non-null  object \n",
      " 8   sunrise            45503 non-null  object \n",
      " 9   sunset             45503 non-null  object \n",
      " 10  DewPointC          45500 non-null  float64\n",
      " 11  FeelsLikeC         45503 non-null  int64  \n",
      " 12  HeatIndexC         45503 non-null  int64  \n",
      " 13  WindChillC         45478 non-null  float64\n",
      " 14  WindGustKmph       45494 non-null  float64\n",
      " 15  cloudcover         45503 non-null  int64  \n",
      " 16  humidity           45503 non-null  int64  \n",
      " 17  precipMM           45487 non-null  float64\n",
      " 18  pressure           45501 non-null  float64\n",
      " 19  tempC              45503 non-null  int64  \n",
      " 20  visibility         45503 non-null  int64  \n",
      " 21  winddirDegree      45503 non-null  int64  \n",
      " 22  windspeedKmph      45503 non-null  int64  \n",
      "dtypes: float64(10), int64(8), object(5)\n",
      "memory usage: 8.0+ MB\n"
     ]
    }
   ],
   "source": [
    "df.info()"
   ]
  },
  {
   "cell_type": "markdown",
   "id": "a0ca4a0f-3561-49ea-b028-f328691668b7",
   "metadata": {},
   "source": [
    "### - Statistical Information"
   ]
  },
  {
   "cell_type": "code",
   "execution_count": 5,
   "id": "a310d96c-78cf-4f58-a2b7-5332c7ac428a",
   "metadata": {},
   "outputs": [
    {
     "data": {
      "text/html": [
       "<div>\n",
       "<style scoped>\n",
       "    .dataframe tbody tr th:only-of-type {\n",
       "        vertical-align: middle;\n",
       "    }\n",
       "\n",
       "    .dataframe tbody tr th {\n",
       "        vertical-align: top;\n",
       "    }\n",
       "\n",
       "    .dataframe thead th {\n",
       "        text-align: right;\n",
       "    }\n",
       "</style>\n",
       "<table border=\"1\" class=\"dataframe\">\n",
       "  <thead>\n",
       "    <tr style=\"text-align: right;\">\n",
       "      <th></th>\n",
       "      <th>maxtempC</th>\n",
       "      <th>mintempC</th>\n",
       "      <th>sunHour</th>\n",
       "      <th>uvIndex</th>\n",
       "      <th>moon_illumination</th>\n",
       "      <th>DewPointC</th>\n",
       "      <th>FeelsLikeC</th>\n",
       "      <th>HeatIndexC</th>\n",
       "      <th>WindChillC</th>\n",
       "      <th>WindGustKmph</th>\n",
       "      <th>cloudcover</th>\n",
       "      <th>humidity</th>\n",
       "      <th>precipMM</th>\n",
       "      <th>pressure</th>\n",
       "      <th>tempC</th>\n",
       "      <th>visibility</th>\n",
       "      <th>winddirDegree</th>\n",
       "      <th>windspeedKmph</th>\n",
       "    </tr>\n",
       "  </thead>\n",
       "  <tbody>\n",
       "    <tr>\n",
       "      <th>count</th>\n",
       "      <td>44633.000000</td>\n",
       "      <td>45478.000000</td>\n",
       "      <td>45351.000000</td>\n",
       "      <td>45450.000000</td>\n",
       "      <td>45502.000000</td>\n",
       "      <td>45500.000000</td>\n",
       "      <td>45503.000000</td>\n",
       "      <td>45503.000000</td>\n",
       "      <td>45478.000000</td>\n",
       "      <td>45494.000000</td>\n",
       "      <td>45503.000000</td>\n",
       "      <td>45503.000000</td>\n",
       "      <td>45487.000000</td>\n",
       "      <td>45501.000000</td>\n",
       "      <td>45503.000000</td>\n",
       "      <td>45503.000000</td>\n",
       "      <td>45503.000000</td>\n",
       "      <td>45503.000000</td>\n",
       "    </tr>\n",
       "    <tr>\n",
       "      <th>mean</th>\n",
       "      <td>30.831201</td>\n",
       "      <td>21.249307</td>\n",
       "      <td>11.087453</td>\n",
       "      <td>6.266249</td>\n",
       "      <td>46.087557</td>\n",
       "      <td>43464.701736</td>\n",
       "      <td>26.322221</td>\n",
       "      <td>26.491462</td>\n",
       "      <td>25.437706</td>\n",
       "      <td>18.101552</td>\n",
       "      <td>31.633013</td>\n",
       "      <td>56.551348</td>\n",
       "      <td>0.246156</td>\n",
       "      <td>1009.847981</td>\n",
       "      <td>25.438543</td>\n",
       "      <td>9.629739</td>\n",
       "      <td>208.436389</td>\n",
       "      <td>10.298332</td>\n",
       "    </tr>\n",
       "    <tr>\n",
       "      <th>std</th>\n",
       "      <td>4.242974</td>\n",
       "      <td>2.667357</td>\n",
       "      <td>1.002336</td>\n",
       "      <td>0.924189</td>\n",
       "      <td>31.231273</td>\n",
       "      <td>13136.110646</td>\n",
       "      <td>4.384641</td>\n",
       "      <td>4.242005</td>\n",
       "      <td>4.562040</td>\n",
       "      <td>8.647081</td>\n",
       "      <td>33.945653</td>\n",
       "      <td>24.535400</td>\n",
       "      <td>0.883922</td>\n",
       "      <td>3.594591</td>\n",
       "      <td>4.562331</td>\n",
       "      <td>1.131830</td>\n",
       "      <td>87.580946</td>\n",
       "      <td>5.138205</td>\n",
       "    </tr>\n",
       "    <tr>\n",
       "      <th>min</th>\n",
       "      <td>22.000000</td>\n",
       "      <td>11.000000</td>\n",
       "      <td>8.300000</td>\n",
       "      <td>4.000000</td>\n",
       "      <td>0.000000</td>\n",
       "      <td>20714.000000</td>\n",
       "      <td>10.000000</td>\n",
       "      <td>11.000000</td>\n",
       "      <td>10.000000</td>\n",
       "      <td>1.000000</td>\n",
       "      <td>0.000000</td>\n",
       "      <td>4.000000</td>\n",
       "      <td>0.000000</td>\n",
       "      <td>997.000000</td>\n",
       "      <td>11.000000</td>\n",
       "      <td>2.000000</td>\n",
       "      <td>0.000000</td>\n",
       "      <td>0.000000</td>\n",
       "    </tr>\n",
       "    <tr>\n",
       "      <th>25%</th>\n",
       "      <td>28.000000</td>\n",
       "      <td>20.000000</td>\n",
       "      <td>10.500000</td>\n",
       "      <td>6.000000</td>\n",
       "      <td>19.000000</td>\n",
       "      <td>32088.750000</td>\n",
       "      <td>25.000000</td>\n",
       "      <td>25.000000</td>\n",
       "      <td>23.000000</td>\n",
       "      <td>12.000000</td>\n",
       "      <td>2.000000</td>\n",
       "      <td>36.000000</td>\n",
       "      <td>0.000000</td>\n",
       "      <td>1007.000000</td>\n",
       "      <td>23.000000</td>\n",
       "      <td>10.000000</td>\n",
       "      <td>113.000000</td>\n",
       "      <td>6.000000</td>\n",
       "    </tr>\n",
       "    <tr>\n",
       "      <th>50%</th>\n",
       "      <td>30.000000</td>\n",
       "      <td>22.000000</td>\n",
       "      <td>11.000000</td>\n",
       "      <td>6.000000</td>\n",
       "      <td>46.000000</td>\n",
       "      <td>43463.500000</td>\n",
       "      <td>26.000000</td>\n",
       "      <td>26.000000</td>\n",
       "      <td>25.000000</td>\n",
       "      <td>16.000000</td>\n",
       "      <td>13.000000</td>\n",
       "      <td>57.000000</td>\n",
       "      <td>0.000000</td>\n",
       "      <td>1010.000000</td>\n",
       "      <td>25.000000</td>\n",
       "      <td>10.000000</td>\n",
       "      <td>253.000000</td>\n",
       "      <td>9.000000</td>\n",
       "    </tr>\n",
       "    <tr>\n",
       "      <th>75%</th>\n",
       "      <td>34.000000</td>\n",
       "      <td>23.000000</td>\n",
       "      <td>11.800000</td>\n",
       "      <td>7.000000</td>\n",
       "      <td>73.000000</td>\n",
       "      <td>54841.250000</td>\n",
       "      <td>29.000000</td>\n",
       "      <td>29.000000</td>\n",
       "      <td>28.000000</td>\n",
       "      <td>23.000000</td>\n",
       "      <td>66.000000</td>\n",
       "      <td>80.000000</td>\n",
       "      <td>0.100000</td>\n",
       "      <td>1013.000000</td>\n",
       "      <td>28.000000</td>\n",
       "      <td>10.000000</td>\n",
       "      <td>273.000000</td>\n",
       "      <td>14.000000</td>\n",
       "    </tr>\n",
       "    <tr>\n",
       "      <th>max</th>\n",
       "      <td>42.000000</td>\n",
       "      <td>28.000000</td>\n",
       "      <td>13.500000</td>\n",
       "      <td>8.000000</td>\n",
       "      <td>100.000000</td>\n",
       "      <td>66216.000000</td>\n",
       "      <td>44.000000</td>\n",
       "      <td>44.000000</td>\n",
       "      <td>42.000000</td>\n",
       "      <td>76.000000</td>\n",
       "      <td>100.000000</td>\n",
       "      <td>98.000000</td>\n",
       "      <td>25.700000</td>\n",
       "      <td>1020.000000</td>\n",
       "      <td>42.000000</td>\n",
       "      <td>10.000000</td>\n",
       "      <td>360.000000</td>\n",
       "      <td>40.000000</td>\n",
       "    </tr>\n",
       "  </tbody>\n",
       "</table>\n",
       "</div>"
      ],
      "text/plain": [
       "           maxtempC      mintempC       sunHour       uvIndex  \\\n",
       "count  44633.000000  45478.000000  45351.000000  45450.000000   \n",
       "mean      30.831201     21.249307     11.087453      6.266249   \n",
       "std        4.242974      2.667357      1.002336      0.924189   \n",
       "min       22.000000     11.000000      8.300000      4.000000   \n",
       "25%       28.000000     20.000000     10.500000      6.000000   \n",
       "50%       30.000000     22.000000     11.000000      6.000000   \n",
       "75%       34.000000     23.000000     11.800000      7.000000   \n",
       "max       42.000000     28.000000     13.500000      8.000000   \n",
       "\n",
       "       moon_illumination     DewPointC    FeelsLikeC    HeatIndexC  \\\n",
       "count       45502.000000  45500.000000  45503.000000  45503.000000   \n",
       "mean           46.087557  43464.701736     26.322221     26.491462   \n",
       "std            31.231273  13136.110646      4.384641      4.242005   \n",
       "min             0.000000  20714.000000     10.000000     11.000000   \n",
       "25%            19.000000  32088.750000     25.000000     25.000000   \n",
       "50%            46.000000  43463.500000     26.000000     26.000000   \n",
       "75%            73.000000  54841.250000     29.000000     29.000000   \n",
       "max           100.000000  66216.000000     44.000000     44.000000   \n",
       "\n",
       "         WindChillC  WindGustKmph    cloudcover      humidity      precipMM  \\\n",
       "count  45478.000000  45494.000000  45503.000000  45503.000000  45487.000000   \n",
       "mean      25.437706     18.101552     31.633013     56.551348      0.246156   \n",
       "std        4.562040      8.647081     33.945653     24.535400      0.883922   \n",
       "min       10.000000      1.000000      0.000000      4.000000      0.000000   \n",
       "25%       23.000000     12.000000      2.000000     36.000000      0.000000   \n",
       "50%       25.000000     16.000000     13.000000     57.000000      0.000000   \n",
       "75%       28.000000     23.000000     66.000000     80.000000      0.100000   \n",
       "max       42.000000     76.000000    100.000000     98.000000     25.700000   \n",
       "\n",
       "           pressure         tempC    visibility  winddirDegree  windspeedKmph  \n",
       "count  45501.000000  45503.000000  45503.000000   45503.000000   45503.000000  \n",
       "mean    1009.847981     25.438543      9.629739     208.436389      10.298332  \n",
       "std        3.594591      4.562331      1.131830      87.580946       5.138205  \n",
       "min      997.000000     11.000000      2.000000       0.000000       0.000000  \n",
       "25%     1007.000000     23.000000     10.000000     113.000000       6.000000  \n",
       "50%     1010.000000     25.000000     10.000000     253.000000       9.000000  \n",
       "75%     1013.000000     28.000000     10.000000     273.000000      14.000000  \n",
       "max     1020.000000     42.000000     10.000000     360.000000      40.000000  "
      ]
     },
     "execution_count": 5,
     "metadata": {},
     "output_type": "execute_result"
    }
   ],
   "source": [
    "df.describe()"
   ]
  },
  {
   "cell_type": "markdown",
   "id": "515ad6f2-f3a7-4a3a-ad40-383e10f50018",
   "metadata": {},
   "source": [
    "## DATA PREPROCESSING"
   ]
  },
  {
   "cell_type": "markdown",
   "id": "5f8a780d-8a7a-4d33-93bd-2feae7319745",
   "metadata": {},
   "source": [
    "### - Deleting Unnecessary Attributes"
   ]
  },
  {
   "cell_type": "code",
   "execution_count": 6,
   "id": "7c87be35-adc2-4692-b27a-ad6e46fc1e6d",
   "metadata": {},
   "outputs": [],
   "source": [
    "df.drop(['date_time', 'moonrise', 'moonset', 'sunrise', 'sunset'], axis = 1, inplace = True)"
   ]
  },
  {
   "cell_type": "markdown",
   "id": "5bb00d41-c972-41fe-9b6d-0143587fe135",
   "metadata": {},
   "source": [
    "### - Finding The Missing Data (NaN Values)"
   ]
  },
  {
   "cell_type": "code",
   "execution_count": 7,
   "id": "25a9c47a-dc30-4e12-a38a-3d860741561a",
   "metadata": {},
   "outputs": [
    {
     "data": {
      "text/plain": [
       "maxtempC             870\n",
       "mintempC              25\n",
       "sunHour              152\n",
       "uvIndex               53\n",
       "moon_illumination      1\n",
       "DewPointC              3\n",
       "FeelsLikeC             0\n",
       "HeatIndexC             0\n",
       "WindChillC            25\n",
       "WindGustKmph           9\n",
       "cloudcover             0\n",
       "humidity               0\n",
       "precipMM              16\n",
       "pressure               2\n",
       "tempC                  0\n",
       "visibility             0\n",
       "winddirDegree          0\n",
       "windspeedKmph          0\n",
       "dtype: int64"
      ]
     },
     "execution_count": 7,
     "metadata": {},
     "output_type": "execute_result"
    }
   ],
   "source": [
    "df.isna().sum()"
   ]
  },
  {
   "cell_type": "markdown",
   "id": "d5520038-a8cd-4be2-bbd4-9ce2a0b1e23e",
   "metadata": {},
   "source": [
    "### - Filling The Missing Data"
   ]
  },
  {
   "cell_type": "code",
   "execution_count": 8,
   "id": "b6d52460-3898-4a73-9e72-71ca65bc4f9e",
   "metadata": {},
   "outputs": [
    {
     "data": {
      "text/plain": [
       "maxtempC                30.831201\n",
       "mintempC                21.249307\n",
       "sunHour                 11.087453\n",
       "uvIndex                  6.266249\n",
       "moon_illumination       46.087557\n",
       "DewPointC            43464.701736\n",
       "FeelsLikeC              26.322221\n",
       "HeatIndexC              26.491462\n",
       "WindChillC              25.437706\n",
       "WindGustKmph            18.101552\n",
       "cloudcover              31.633013\n",
       "humidity                56.551348\n",
       "precipMM                 0.246156\n",
       "pressure              1009.847981\n",
       "tempC                   25.438543\n",
       "visibility               9.629739\n",
       "winddirDegree          208.436389\n",
       "windspeedKmph           10.298332\n",
       "dtype: float64"
      ]
     },
     "execution_count": 8,
     "metadata": {},
     "output_type": "execute_result"
    }
   ],
   "source": [
    "df.mean()"
   ]
  },
  {
   "cell_type": "code",
   "execution_count": 9,
   "id": "30d0df11-c3fc-493c-8162-442d816f7648",
   "metadata": {},
   "outputs": [],
   "source": [
    "filled_df = df.fillna(df.mean())"
   ]
  },
  {
   "cell_type": "markdown",
   "id": "fcadf975-0b58-4ad5-a07a-9748499995d7",
   "metadata": {},
   "source": [
    "filled_df.corr()"
   ]
  },
  {
   "cell_type": "markdown",
   "id": "f445a805-ed84-40b0-894a-a8b5f776965e",
   "metadata": {},
   "source": [
    "### - Finding correlatiion"
   ]
  },
  {
   "cell_type": "code",
   "execution_count": 11,
   "id": "9089e785-c336-4915-b042-da00cef3ea46",
   "metadata": {},
   "outputs": [
    {
     "data": {
      "text/plain": [
       "<Axes: >"
      ]
     },
     "execution_count": 11,
     "metadata": {},
     "output_type": "execute_result"
    },
    {
     "data": {
      "image/png": "[encoded data removed]",
      "text/plain": [
       "<Figure size 640x480 with 2 Axes>"
      ]
     },
     "metadata": {},
     "output_type": "display_data"
    }
   ],
   "source": [
    "sns.heatmap(filled_df.corr())"
   ]
  },
  {
   "cell_type": "code",
   "execution_count": 12,
   "id": "68e41594-48e4-4d77-ac3f-5fb6800af6c0",
   "metadata": {},
   "outputs": [
    {
     "data": {
      "text/plain": [
       "maxtempC             0\n",
       "mintempC             0\n",
       "sunHour              0\n",
       "uvIndex              0\n",
       "moon_illumination    0\n",
       "DewPointC            0\n",
       "FeelsLikeC           0\n",
       "HeatIndexC           0\n",
       "WindChillC           0\n",
       "WindGustKmph         0\n",
       "cloudcover           0\n",
       "humidity             0\n",
       "precipMM             0\n",
       "pressure             0\n",
       "tempC                0\n",
       "visibility           0\n",
       "winddirDegree        0\n",
       "windspeedKmph        0\n",
       "dtype: int64"
      ]
     },
     "execution_count": 12,
     "metadata": {},
     "output_type": "execute_result"
    }
   ],
   "source": [
    "filled_df.isna().sum()"
   ]
  },
  {
   "cell_type": "markdown",
   "id": "e4d621d5-4bc2-4827-89ee-c0cb9afa1813",
   "metadata": {},
   "source": [
    "### Splitting Data into X and Y "
   ]
  },
  {
   "cell_type": "code",
   "execution_count": 13,
   "id": "241407f3-d121-4135-9efc-3ca5fc764568",
   "metadata": {},
   "outputs": [],
   "source": [
    "X= filled_df.drop(['tempC','moon_illumination','DewPointC','cloudcover','precipMM','visibility','winddirDegree','sunHour','WindChillC','WindGustKmph','windspeedKmph','FeelsLikeC'],axis=1)\n",
    "Y= filled_df['tempC']"
   ]
  },
  {
   "cell_type": "code",
   "execution_count": 14,
   "id": "b8204965-46bb-4295-951f-8f1a40335acf",
   "metadata": {},
   "outputs": [],
   "source": [
    "from sklearn.model_selection import train_test_split\n",
    "\n",
    "# split the data into train and test\n",
    "x_train, x_test, y_train, y_test = train_test_split(X, Y, train_size=0.8, random_state=12345)"
   ]
  },
  {
   "cell_type": "markdown",
   "id": "3499fabf-15a3-4619-bfa9-b4aa4c316fb2",
   "metadata": {},
   "source": [
    "### Standardizing features"
   ]
  },
  {
   "cell_type": "code",
   "execution_count": 15,
   "id": "7ddf8e5e-3310-4bd3-af8e-1e2d68c05c60",
   "metadata": {},
   "outputs": [],
   "source": [
    "# from sklearn.linear_model import Lasso\n",
    "# from sklearn.model_selection import train_test_split\n",
    "# from sklearn.preprocessing import StandardScaler\n",
    "\n",
    "\n",
    "# scaler = StandardScaler()\n",
    "# x_train_scaled = scaler.fit_transform(x_train)\n",
    "# x_test_scaled = scaler.transform(x_test)\n",
    "\n",
    "\n",
    "# # Create Lasso model with regularization strength (alpha)\n",
    "# lasso_model = Lasso(alpha=1)  # Adjust alpha as needed\n",
    "\n",
    "# # Fit the model\n",
    "# lasso_model.fit(x_train_scaled, y_train)\n",
    "\n",
    "# # Make predictions\n",
    "# y_pred = lasso_model.predict(x_test_scaled)\n"
   ]
  },
  {
   "cell_type": "markdown",
   "id": "2b40c678-e3a1-43bb-a39d-89dbbcb71edd",
   "metadata": {},
   "source": [
    "## MODEL BUILDING"
   ]
  },
  {
   "cell_type": "markdown",
   "id": "ca591601-170a-4fa6-a413-62a5ef12ef25",
   "metadata": {},
   "source": [
    "### - Linear Regression Model"
   ]
  },
  {
   "cell_type": "code",
   "execution_count": 16,
   "id": "6bfbb1ea-b9a6-430c-a662-0f0818f243c7",
   "metadata": {},
   "outputs": [],
   "source": [
    "from sklearn.linear_model import LinearRegression\n",
    "import pickle\n",
    "model = LinearRegression()\n",
    "model.fit(x_train, y_train)\n",
    "def save_model(model, name):\n",
    "    with open(name, 'wb') as file:\n",
    "        pickle.dump(model, file)\n",
    "\n",
    "save_model(model,'lg.pkl')"
   ]
  },
  {
   "cell_type": "markdown",
   "id": "079d900a-4e31-4d90-8411-dc9c7f9aa09e",
   "metadata": {},
   "source": [
    "## MODEL EVALUATION"
   ]
  },
  {
   "cell_type": "markdown",
   "id": "e9e13a59-9053-4179-8859-c4b1bcf093ea",
   "metadata": {},
   "source": [
    "### Evaluating y_true and y_pred"
   ]
  },
  {
   "cell_type": "code",
   "execution_count": 17,
   "id": "b7d93117-51b9-4103-b815-07c5ea7d383e",
   "metadata": {},
   "outputs": [],
   "source": [
    "y_true = y_test\n",
    "y_pred = model.predict(x_test)"
   ]
  },
  {
   "cell_type": "markdown",
   "id": "3e0de350-92f0-4551-9fc5-a1cac8c920ed",
   "metadata": {},
   "source": [
    "### - Mean Absolute Error (MAE)"
   ]
  },
  {
   "cell_type": "code",
   "execution_count": 18,
   "id": "d24268de-7882-49eb-aec6-4031449a4676",
   "metadata": {},
   "outputs": [
    {
     "data": {
      "text/plain": [
       "0.7352070758424476"
      ]
     },
     "execution_count": 18,
     "metadata": {},
     "output_type": "execute_result"
    }
   ],
   "source": [
    "from sklearn.metrics import mean_absolute_error\n",
    "mae=mean_absolute_error(y_test,y_pred)\n",
    "mae"
   ]
  },
  {
   "cell_type": "markdown",
   "id": "7c029807-d2ce-4c03-b387-c39c571567de",
   "metadata": {},
   "source": [
    "### - Mean Squared Error (MSE)"
   ]
  },
  {
   "cell_type": "code",
   "execution_count": 19,
   "id": "95b12b52-9cfb-4d47-a046-93a624d71baa",
   "metadata": {},
   "outputs": [
    {
     "data": {
      "text/plain": [
       "0.9249420456695954"
      ]
     },
     "execution_count": 19,
     "metadata": {},
     "output_type": "execute_result"
    }
   ],
   "source": [
    "from sklearn.metrics import mean_squared_error\n",
    "mse=mean_squared_error(y_test,y_pred)\n",
    "mse"
   ]
  },
  {
   "cell_type": "markdown",
   "id": "6f5a25c3-a574-4bc7-946a-6695c4ff8066",
   "metadata": {},
   "source": [
    "### - R2 Score"
   ]
  },
  {
   "cell_type": "code",
   "execution_count": 24,
   "id": "0c6adc4f-9341-4cb8-ae28-91e041cb220b",
   "metadata": {},
   "outputs": [
    {
     "data": {
      "text/plain": [
       "0.954882281914995"
      ]
     },
     "execution_count": 24,
     "metadata": {},
     "output_type": "execute_result"
    }
   ],
   "source": [
    "from sklearn.metrics import r2_score\n",
    "R2=r2_score(y_test,y_pred)\n",
    "R2\n"
   ]
  },
  {
   "cell_type": "markdown",
   "id": "f99dfcf4-3769-4d28-8367-4897e0bbc732",
   "metadata": {},
   "source": [
    "## PREDICTION"
   ]
  },
  {
   "cell_type": "code",
   "execution_count": 45,
   "id": "12ed0b0d-7b71-466a-84c8-94272bc4d990",
   "metadata": {},
   "outputs": [
    {
     "name": "stderr",
     "output_type": "stream",
     "text": [
      "/home/acer/.local/lib/python3.10/site-packages/sklearn/base.py:465: UserWarning: X does not have valid feature names, but LinearRegression was fitted with feature names\n",
      "  warnings.warn(\n"
     ]
    },
    {
     "data": {
      "text/plain": [
       "array([16.90703375])"
      ]
     },
     "execution_count": 45,
     "metadata": {},
     "output_type": "execute_result"
    }
   ],
   "source": [
    "input_data = np.array([[31,17,11,18,63,1014]]) \n",
    "#normalized_input_data = normalize_function(input_data)\n",
    "prediction = model.predict(input_data)\n",
    "prediction"
   ]
  },
  {
   "cell_type": "code",
   "execution_count": 36,
   "id": "2996dead-6785-478b-b961-f004137956ea",
   "metadata": {},
   "outputs": [
    {
     "data": {
      "text/plain": [
       "9101"
      ]
     },
     "execution_count": 36,
     "metadata": {},
     "output_type": "execute_result"
    }
   ],
   "source": [
    "y_test.count()"
   ]
  },
  {
   "cell_type": "code",
   "execution_count": 42,
   "id": "448c7fed-abe4-42a9-b587-fd83ebb2f9a9",
   "metadata": {},
   "outputs": [
    {
     "data": {
      "text/plain": [
       "9101"
      ]
     },
     "execution_count": 42,
     "metadata": {},
     "output_type": "execute_result"
    }
   ],
   "source": [
    "y_pred.size"
   ]
  },
  {
   "cell_type": "code",
   "execution_count": null,
   "id": "d08e8534-f17c-4b8b-96fb-5bb5175db4c4",
   "metadata": {},
   "outputs": [],
   "source": []
  }
 ],
 "metadata": {
  "kernelspec": {
   "display_name": "Python 3 (ipykernel)",
   "language": "python",
   "name": "python3"
  },
  "language_info": {
   "codemirror_mode": {
    "name": "ipython",
    "version": 3
   },
   "file_extension": ".py",
   "mimetype": "text/x-python",
   "name": "python",
   "nbconvert_exporter": "python",
   "pygments_lexer": "ipython3",
   "version": "3.10.12"
  }
 },
 "nbformat": 4,
 "nbformat_minor": 5
}
